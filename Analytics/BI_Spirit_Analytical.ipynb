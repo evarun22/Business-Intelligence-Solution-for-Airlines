{
 "cells": [
  {
   "cell_type": "markdown",
   "metadata": {},
   "source": [
    "# Predicting Arrival Delay of flights\n",
    "\n",
    "We are predicting the arrival delay of flights in minutes for November and December 2019, using Random Forest Regeressor. "
   ]
  },
  {
   "cell_type": "code",
   "execution_count": 133,
   "metadata": {},
   "outputs": [],
   "source": [
    "import numpy as np\n",
    "import pandas as pd\n",
    "\n",
    "df1 = pd.read_csv('/Users/sayalishelke/Downloads/December.csv')\n",
    "df2= pd.read_csv('/Users/sayalishelke/Downloads/November.csv')\n",
    "df= pd.concat([df1,df2])"
   ]
  },
  {
   "cell_type": "code",
   "execution_count": 134,
   "metadata": {},
   "outputs": [
    {
     "data": {
      "text/html": [
       "<div>\n",
       "<style scoped>\n",
       "    .dataframe tbody tr th:only-of-type {\n",
       "        vertical-align: middle;\n",
       "    }\n",
       "\n",
       "    .dataframe tbody tr th {\n",
       "        vertical-align: top;\n",
       "    }\n",
       "\n",
       "    .dataframe thead th {\n",
       "        text-align: right;\n",
       "    }\n",
       "</style>\n",
       "<table border=\"1\" class=\"dataframe\">\n",
       "  <thead>\n",
       "    <tr style=\"text-align: right;\">\n",
       "      <th></th>\n",
       "      <th>YEAR</th>\n",
       "      <th>FL_DATE</th>\n",
       "      <th>OP_UNIQUE_CARRIER</th>\n",
       "      <th>ORIGIN_AIRPORT_ID</th>\n",
       "      <th>ORIGIN_CITY_NAME</th>\n",
       "      <th>DEST_AIRPORT_ID</th>\n",
       "      <th>DEST_CITY_NAME</th>\n",
       "      <th>CRS_DEP_TIME</th>\n",
       "      <th>DEP_TIME</th>\n",
       "      <th>DEP_DELAY_NEW</th>\n",
       "      <th>CRS_ARR_TIME</th>\n",
       "      <th>ARR_TIME</th>\n",
       "      <th>ARR_DELAY</th>\n",
       "      <th>Unnamed: 13</th>\n",
       "    </tr>\n",
       "  </thead>\n",
       "  <tbody>\n",
       "    <tr>\n",
       "      <th>0</th>\n",
       "      <td>2019</td>\n",
       "      <td>2019-12-08</td>\n",
       "      <td>WN</td>\n",
       "      <td>15016</td>\n",
       "      <td>St. Louis, MO</td>\n",
       "      <td>14679</td>\n",
       "      <td>San Diego, CA</td>\n",
       "      <td>1110</td>\n",
       "      <td>1107.0</td>\n",
       "      <td>0.0</td>\n",
       "      <td>1315</td>\n",
       "      <td>1333.0</td>\n",
       "      <td>18.0</td>\n",
       "      <td>NaN</td>\n",
       "    </tr>\n",
       "    <tr>\n",
       "      <th>1</th>\n",
       "      <td>2019</td>\n",
       "      <td>2019-12-08</td>\n",
       "      <td>WN</td>\n",
       "      <td>15016</td>\n",
       "      <td>St. Louis, MO</td>\n",
       "      <td>14683</td>\n",
       "      <td>San Antonio, TX</td>\n",
       "      <td>1210</td>\n",
       "      <td>1218.0</td>\n",
       "      <td>8.0</td>\n",
       "      <td>1435</td>\n",
       "      <td>1423.0</td>\n",
       "      <td>-12.0</td>\n",
       "      <td>NaN</td>\n",
       "    </tr>\n",
       "    <tr>\n",
       "      <th>2</th>\n",
       "      <td>2019</td>\n",
       "      <td>2019-12-08</td>\n",
       "      <td>WN</td>\n",
       "      <td>15016</td>\n",
       "      <td>St. Louis, MO</td>\n",
       "      <td>14683</td>\n",
       "      <td>San Antonio, TX</td>\n",
       "      <td>2145</td>\n",
       "      <td>2140.0</td>\n",
       "      <td>0.0</td>\n",
       "      <td>5</td>\n",
       "      <td>2351.0</td>\n",
       "      <td>-14.0</td>\n",
       "      <td>NaN</td>\n",
       "    </tr>\n",
       "    <tr>\n",
       "      <th>3</th>\n",
       "      <td>2019</td>\n",
       "      <td>2019-12-08</td>\n",
       "      <td>WN</td>\n",
       "      <td>15016</td>\n",
       "      <td>St. Louis, MO</td>\n",
       "      <td>14747</td>\n",
       "      <td>Seattle, WA</td>\n",
       "      <td>930</td>\n",
       "      <td>925.0</td>\n",
       "      <td>0.0</td>\n",
       "      <td>1205</td>\n",
       "      <td>1141.0</td>\n",
       "      <td>-24.0</td>\n",
       "      <td>NaN</td>\n",
       "    </tr>\n",
       "    <tr>\n",
       "      <th>4</th>\n",
       "      <td>2019</td>\n",
       "      <td>2019-12-08</td>\n",
       "      <td>WN</td>\n",
       "      <td>15016</td>\n",
       "      <td>St. Louis, MO</td>\n",
       "      <td>14771</td>\n",
       "      <td>San Francisco, CA</td>\n",
       "      <td>1805</td>\n",
       "      <td>1822.0</td>\n",
       "      <td>17.0</td>\n",
       "      <td>2035</td>\n",
       "      <td>2038.0</td>\n",
       "      <td>3.0</td>\n",
       "      <td>NaN</td>\n",
       "    </tr>\n",
       "  </tbody>\n",
       "</table>\n",
       "</div>"
      ],
      "text/plain": [
       "   YEAR     FL_DATE OP_UNIQUE_CARRIER  ORIGIN_AIRPORT_ID ORIGIN_CITY_NAME  \\\n",
       "0  2019  2019-12-08                WN              15016    St. Louis, MO   \n",
       "1  2019  2019-12-08                WN              15016    St. Louis, MO   \n",
       "2  2019  2019-12-08                WN              15016    St. Louis, MO   \n",
       "3  2019  2019-12-08                WN              15016    St. Louis, MO   \n",
       "4  2019  2019-12-08                WN              15016    St. Louis, MO   \n",
       "\n",
       "   DEST_AIRPORT_ID     DEST_CITY_NAME  CRS_DEP_TIME  DEP_TIME  DEP_DELAY_NEW  \\\n",
       "0            14679      San Diego, CA          1110    1107.0            0.0   \n",
       "1            14683    San Antonio, TX          1210    1218.0            8.0   \n",
       "2            14683    San Antonio, TX          2145    2140.0            0.0   \n",
       "3            14747        Seattle, WA           930     925.0            0.0   \n",
       "4            14771  San Francisco, CA          1805    1822.0           17.0   \n",
       "\n",
       "   CRS_ARR_TIME  ARR_TIME  ARR_DELAY  Unnamed: 13  \n",
       "0          1315    1333.0       18.0          NaN  \n",
       "1          1435    1423.0      -12.0          NaN  \n",
       "2             5    2351.0      -14.0          NaN  \n",
       "3          1205    1141.0      -24.0          NaN  \n",
       "4          2035    2038.0        3.0          NaN  "
      ]
     },
     "execution_count": 134,
     "metadata": {},
     "output_type": "execute_result"
    }
   ],
   "source": [
    "df.head()"
   ]
  },
  {
   "cell_type": "code",
   "execution_count": 135,
   "metadata": {},
   "outputs": [],
   "source": [
    "df.drop(labels=['Unnamed: 13'],inplace=True,axis=1)"
   ]
  },
  {
   "cell_type": "code",
   "execution_count": 136,
   "metadata": {},
   "outputs": [],
   "source": [
    "df = df[df['OP_UNIQUE_CARRIER']=='NK'] #NK code stands for Spirit Airways"
   ]
  },
  {
   "cell_type": "code",
   "execution_count": 137,
   "metadata": {},
   "outputs": [],
   "source": [
    "df.reset_index(drop=True, inplace=True) "
   ]
  },
  {
   "cell_type": "code",
   "execution_count": 138,
   "metadata": {},
   "outputs": [
    {
     "data": {
      "text/html": [
       "<div>\n",
       "<style scoped>\n",
       "    .dataframe tbody tr th:only-of-type {\n",
       "        vertical-align: middle;\n",
       "    }\n",
       "\n",
       "    .dataframe tbody tr th {\n",
       "        vertical-align: top;\n",
       "    }\n",
       "\n",
       "    .dataframe thead th {\n",
       "        text-align: right;\n",
       "    }\n",
       "</style>\n",
       "<table border=\"1\" class=\"dataframe\">\n",
       "  <thead>\n",
       "    <tr style=\"text-align: right;\">\n",
       "      <th></th>\n",
       "      <th>YEAR</th>\n",
       "      <th>FL_DATE</th>\n",
       "      <th>OP_UNIQUE_CARRIER</th>\n",
       "      <th>ORIGIN_AIRPORT_ID</th>\n",
       "      <th>ORIGIN_CITY_NAME</th>\n",
       "      <th>DEST_AIRPORT_ID</th>\n",
       "      <th>DEST_CITY_NAME</th>\n",
       "      <th>CRS_DEP_TIME</th>\n",
       "      <th>DEP_TIME</th>\n",
       "      <th>DEP_DELAY_NEW</th>\n",
       "      <th>CRS_ARR_TIME</th>\n",
       "      <th>ARR_TIME</th>\n",
       "      <th>ARR_DELAY</th>\n",
       "    </tr>\n",
       "  </thead>\n",
       "  <tbody>\n",
       "    <tr>\n",
       "      <th>0</th>\n",
       "      <td>2019</td>\n",
       "      <td>2019-12-01</td>\n",
       "      <td>NK</td>\n",
       "      <td>11697</td>\n",
       "      <td>Fort Lauderdale, FL</td>\n",
       "      <td>13930</td>\n",
       "      <td>Chicago, IL</td>\n",
       "      <td>1130</td>\n",
       "      <td>1148.0</td>\n",
       "      <td>18.0</td>\n",
       "      <td>1348</td>\n",
       "      <td>1413.0</td>\n",
       "      <td>25.0</td>\n",
       "    </tr>\n",
       "    <tr>\n",
       "      <th>1</th>\n",
       "      <td>2019</td>\n",
       "      <td>2019-12-02</td>\n",
       "      <td>NK</td>\n",
       "      <td>11697</td>\n",
       "      <td>Fort Lauderdale, FL</td>\n",
       "      <td>13930</td>\n",
       "      <td>Chicago, IL</td>\n",
       "      <td>1130</td>\n",
       "      <td>1124.0</td>\n",
       "      <td>0.0</td>\n",
       "      <td>1348</td>\n",
       "      <td>1335.0</td>\n",
       "      <td>-13.0</td>\n",
       "    </tr>\n",
       "    <tr>\n",
       "      <th>2</th>\n",
       "      <td>2019</td>\n",
       "      <td>2019-12-05</td>\n",
       "      <td>NK</td>\n",
       "      <td>11697</td>\n",
       "      <td>Fort Lauderdale, FL</td>\n",
       "      <td>13930</td>\n",
       "      <td>Chicago, IL</td>\n",
       "      <td>1139</td>\n",
       "      <td>1136.0</td>\n",
       "      <td>0.0</td>\n",
       "      <td>1400</td>\n",
       "      <td>1351.0</td>\n",
       "      <td>-9.0</td>\n",
       "    </tr>\n",
       "    <tr>\n",
       "      <th>3</th>\n",
       "      <td>2019</td>\n",
       "      <td>2019-12-06</td>\n",
       "      <td>NK</td>\n",
       "      <td>11697</td>\n",
       "      <td>Fort Lauderdale, FL</td>\n",
       "      <td>13930</td>\n",
       "      <td>Chicago, IL</td>\n",
       "      <td>1139</td>\n",
       "      <td>1134.0</td>\n",
       "      <td>0.0</td>\n",
       "      <td>1400</td>\n",
       "      <td>1357.0</td>\n",
       "      <td>-3.0</td>\n",
       "    </tr>\n",
       "    <tr>\n",
       "      <th>4</th>\n",
       "      <td>2019</td>\n",
       "      <td>2019-12-07</td>\n",
       "      <td>NK</td>\n",
       "      <td>11697</td>\n",
       "      <td>Fort Lauderdale, FL</td>\n",
       "      <td>13930</td>\n",
       "      <td>Chicago, IL</td>\n",
       "      <td>1139</td>\n",
       "      <td>1137.0</td>\n",
       "      <td>0.0</td>\n",
       "      <td>1400</td>\n",
       "      <td>1346.0</td>\n",
       "      <td>-14.0</td>\n",
       "    </tr>\n",
       "  </tbody>\n",
       "</table>\n",
       "</div>"
      ],
      "text/plain": [
       "   YEAR     FL_DATE OP_UNIQUE_CARRIER  ORIGIN_AIRPORT_ID     ORIGIN_CITY_NAME  \\\n",
       "0  2019  2019-12-01                NK              11697  Fort Lauderdale, FL   \n",
       "1  2019  2019-12-02                NK              11697  Fort Lauderdale, FL   \n",
       "2  2019  2019-12-05                NK              11697  Fort Lauderdale, FL   \n",
       "3  2019  2019-12-06                NK              11697  Fort Lauderdale, FL   \n",
       "4  2019  2019-12-07                NK              11697  Fort Lauderdale, FL   \n",
       "\n",
       "   DEST_AIRPORT_ID DEST_CITY_NAME  CRS_DEP_TIME  DEP_TIME  DEP_DELAY_NEW  \\\n",
       "0            13930    Chicago, IL          1130    1148.0           18.0   \n",
       "1            13930    Chicago, IL          1130    1124.0            0.0   \n",
       "2            13930    Chicago, IL          1139    1136.0            0.0   \n",
       "3            13930    Chicago, IL          1139    1134.0            0.0   \n",
       "4            13930    Chicago, IL          1139    1137.0            0.0   \n",
       "\n",
       "   CRS_ARR_TIME  ARR_TIME  ARR_DELAY  \n",
       "0          1348    1413.0       25.0  \n",
       "1          1348    1335.0      -13.0  \n",
       "2          1400    1351.0       -9.0  \n",
       "3          1400    1357.0       -3.0  \n",
       "4          1400    1346.0      -14.0  "
      ]
     },
     "execution_count": 138,
     "metadata": {},
     "output_type": "execute_result"
    }
   ],
   "source": [
    "df.head()"
   ]
  },
  {
   "cell_type": "code",
   "execution_count": 139,
   "metadata": {},
   "outputs": [],
   "source": [
    "s3 = df.drop(['ARR_DELAY'], axis=1)"
   ]
  },
  {
   "cell_type": "code",
   "execution_count": 140,
   "metadata": {},
   "outputs": [],
   "source": [
    "categorical_feature_mask = s3.dtypes==object\n",
    "# filter categorical columns using mask and turn it into a list\n",
    "categorical_cols = s3.columns[categorical_feature_mask].tolist()"
   ]
  },
  {
   "cell_type": "code",
   "execution_count": 141,
   "metadata": {},
   "outputs": [],
   "source": [
    "from sklearn.preprocessing import LabelEncoder\n",
    "# instantiate labelencoder object\n",
    "le = LabelEncoder()"
   ]
  },
  {
   "cell_type": "code",
   "execution_count": 142,
   "metadata": {},
   "outputs": [],
   "source": [
    "s3[categorical_cols] = s3[categorical_cols].apply(lambda col: le.fit_transform(col))"
   ]
  },
  {
   "cell_type": "code",
   "execution_count": 143,
   "metadata": {},
   "outputs": [],
   "source": [
    "y = df['ARR_DELAY']\n",
    "X = s3"
   ]
  },
  {
   "cell_type": "code",
   "execution_count": 144,
   "metadata": {},
   "outputs": [],
   "source": [
    "X =X.fillna(0)\n",
    "y = y.fillna(0)"
   ]
  },
  {
   "cell_type": "code",
   "execution_count": 145,
   "metadata": {},
   "outputs": [
    {
     "data": {
      "text/plain": [
       "(34737, 12)"
      ]
     },
     "execution_count": 145,
     "metadata": {},
     "output_type": "execute_result"
    }
   ],
   "source": [
    "X.shape"
   ]
  },
  {
   "cell_type": "code",
   "execution_count": 146,
   "metadata": {},
   "outputs": [
    {
     "data": {
      "text/plain": [
       "(34737,)"
      ]
     },
     "execution_count": 146,
     "metadata": {},
     "output_type": "execute_result"
    }
   ],
   "source": [
    "y.shape"
   ]
  },
  {
   "cell_type": "code",
   "execution_count": 147,
   "metadata": {},
   "outputs": [],
   "source": [
    "#split dataset into training and testing set\n",
    "from sklearn import metrics\n",
    "from sklearn.model_selection import train_test_split\n",
    "\n",
    "X_train, X_test, y_train, y_test = train_test_split(X, y, test_size=0.2, random_state=0)"
   ]
  },
  {
   "cell_type": "code",
   "execution_count": 151,
   "metadata": {},
   "outputs": [],
   "source": [
    "from sklearn.ensemble import RandomForestRegressor\n",
    "\n",
    "regressor = RandomForestRegressor(n_estimators=100, random_state=42)\n",
    "regressor.fit(X_train, y_train)\n",
    "y_pred = regressor.predict(X_test)"
   ]
  },
  {
   "cell_type": "code",
   "execution_count": 152,
   "metadata": {},
   "outputs": [
    {
     "name": "stdout",
     "output_type": "stream",
     "text": [
      "Mean Absolute Error: 4.920581462291308\n",
      "Mean Squared Error: 77.93959228554981\n",
      "Root Mean Squared Error: 8.82834029053875\n"
     ]
    }
   ],
   "source": [
    "print('Mean Absolute Error:', metrics.mean_absolute_error(y_test, y_pred))\n",
    "print('Mean Squared Error:', metrics.mean_squared_error(y_test, y_pred))\n",
    "print('Root Mean Squared Error:', np.sqrt(metrics.mean_squared_error(y_test, y_pred)))"
   ]
  },
  {
   "cell_type": "code",
   "execution_count": 153,
   "metadata": {},
   "outputs": [
    {
     "name": "stdout",
     "output_type": "stream",
     "text": [
      "0.954381157289665\n"
     ]
    }
   ],
   "source": [
    "#R-squared value\n",
    "print(regressor.score(X_test,y_test))"
   ]
  },
  {
   "cell_type": "code",
   "execution_count": 159,
   "metadata": {},
   "outputs": [
    {
     "data": {
      "text/plain": [
       "array([ 33.22,  -4.85, -23.86,   5.77, -11.17,  -3.71, -13.11,  -8.49,\n",
       "       -10.85,  -1.06])"
      ]
     },
     "execution_count": 159,
     "metadata": {},
     "output_type": "execute_result"
    }
   ],
   "source": [
    "y_pred[0:10] #first 10 values"
   ]
  },
  {
   "cell_type": "markdown",
   "metadata": {},
   "source": [
    "The negative values above indicate early flights. \n",
    "\n",
    "We can see that the R-squared value is 0.95 which is very good. RMSE of 8.82 indicates that the regression is giving quite good results. "
   ]
  }
 ],
 "metadata": {
  "kernelspec": {
   "display_name": "Python 3",
   "language": "python",
   "name": "python3"
  },
  "language_info": {
   "codemirror_mode": {
    "name": "ipython",
    "version": 3
   },
   "file_extension": ".py",
   "mimetype": "text/x-python",
   "name": "python",
   "nbconvert_exporter": "python",
   "pygments_lexer": "ipython3",
   "version": "3.7.3"
  }
 },
 "nbformat": 4,
 "nbformat_minor": 4
}
