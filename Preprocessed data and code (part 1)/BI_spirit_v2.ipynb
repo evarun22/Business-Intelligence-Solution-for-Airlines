{
 "cells": [
  {
   "cell_type": "code",
   "execution_count": 1,
   "metadata": {},
   "outputs": [],
   "source": [
    "import glob\n",
    "import pandas as pd\n",
    "import numpy as np"
   ]
  },
  {
   "cell_type": "code",
   "execution_count": 2,
   "metadata": {},
   "outputs": [
    {
     "name": "stderr",
     "output_type": "stream",
     "text": [
      "C:\\Users\\varun\\Anaconda3\\lib\\site-packages\\IPython\\core\\interactiveshell.py:3063: DtypeWarning: Columns (49,77,78,85) have mixed types.Specify dtype option on import or set low_memory=False.\n",
      "  interactivity=interactivity, compiler=compiler, result=result)\n",
      "C:\\Users\\varun\\Anaconda3\\lib\\site-packages\\IPython\\core\\interactiveshell.py:3063: DtypeWarning: Columns (49,78,85) have mixed types.Specify dtype option on import or set low_memory=False.\n",
      "  interactivity=interactivity, compiler=compiler, result=result)\n",
      "C:\\Users\\varun\\Anaconda3\\lib\\site-packages\\IPython\\core\\interactiveshell.py:3063: DtypeWarning: Columns (49,70,77,78,85) have mixed types.Specify dtype option on import or set low_memory=False.\n",
      "  interactivity=interactivity, compiler=compiler, result=result)\n",
      "C:\\Users\\varun\\Anaconda3\\lib\\site-packages\\IPython\\core\\interactiveshell.py:3063: DtypeWarning: Columns (49,77,78,85,86,93) have mixed types.Specify dtype option on import or set low_memory=False.\n",
      "  interactivity=interactivity, compiler=compiler, result=result)\n"
     ]
    }
   ],
   "source": [
    "df_9 = pd.read_csv('On_Time_Reporting_Carrier_On_Time_Performance_(1987_present)_2019_9_.csv')\n",
    "df_10 = pd.read_csv('On_Time_Reporting_Carrier_On_Time_Performance_(1987_present)_2019_10_.csv')\n",
    "df_11 = pd.read_csv('On_Time_Reporting_Carrier_On_Time_Performance_(1987_present)_2019_11_.csv')\n",
    "df_12 = pd.read_csv('On_Time_Reporting_Carrier_On_Time_Performance_(1987_present)_2019_12_.csv')\n"
   ]
  },
  {
   "cell_type": "code",
   "execution_count": null,
   "metadata": {},
   "outputs": [],
   "source": []
  },
  {
   "cell_type": "code",
   "execution_count": 3,
   "metadata": {},
   "outputs": [],
   "source": [
    "def revise_df(df):\n",
    "    \n",
    "    Data= df[df['Reporting_Airline']=='NK']\n",
    "    \n",
    "    data14 = pd.DataFrame(Data,columns=['ArrTime','CRSArrTime','DepTime','CRSDepTime'])\n",
    "    data14 = pd.to_numeric(data14.stack(), errors='coerce').fillna(0)\n",
    "    df2= (pd.to_timedelta(data14 // 100, unit='hours') + pd.to_timedelta(data14 % 100, unit='T')).unstack()\n",
    "#     ddf = Data.dropna(axis=0, subset=['ArrTime','CRSArrTime','DepTime','CRSDepTime'])\n",
    "    ddf = Data\n",
    "    df_merged = ddf.merge(df2, how='outer', left_index=True, right_index=True)\n",
    "    \n",
    "    df_merged.drop(labels=['Quarter','Unnamed: 109','ArrTime_x','CRSArrTime_x',\n",
    "                           'DepTime_x','CRSDepTime_x'],inplace=True,axis=1)\n",
    "    \n",
    "    df_merged.reset_index(drop=True, inplace=True)\n",
    "    \n",
    "    \n",
    "    df_merged['FlightDate']=pd.to_datetime(df_merged['FlightDate'])\n",
    "#     df_merged=df_merged[pd.notnull(df_merged[\"ArrTime_y\"])]\n",
    "    df_merged.loc[df_merged['ArrTime_y'] > df_merged['CRSArrTime_y'], 'Delayed'] = 1\n",
    "    df_merged.loc[df_merged['ArrTime_y'] <= df_merged['CRSArrTime_y'], 'Delayed'] = 0\n",
    "\n",
    "    df_merged['Delayed']=df_merged['Delayed'].fillna(0)\n",
    "    \n",
    "    df_merged['Delayed']=df_merged['Delayed'].astype('int64')\n",
    "    df_merged['Diverted']=df_merged['Diverted'].astype('int64')\n",
    "    df_merged['Cancelled']=df_merged['Cancelled'].astype('int64')\n",
    "    \n",
    "    df_merged = df_merged.rename(columns={\"ArrTime_y\": \"ArrTime\", \"CRSArrTime_y\": \"CRSArrTime\",\n",
    "                                          \"DepTime_y\": \"DepTime\", \"CRSDepTime_y\": \"CRSDepTime\"})\n",
    "    \n",
    "    return df_merged"
   ]
  },
  {
   "cell_type": "code",
   "execution_count": 4,
   "metadata": {},
   "outputs": [],
   "source": [
    "df_merged_9 = revise_df(df_9)\n",
    "df_merged_10 = revise_df(df_10)\n",
    "df_merged_11 = revise_df(df_11)\n",
    "df_merged_12 = revise_df(df_12)\n"
   ]
  },
  {
   "cell_type": "code",
   "execution_count": 5,
   "metadata": {},
   "outputs": [],
   "source": [
    "df_merged_all = pd.concat([df_merged_9, df_merged_10, df_merged_11, df_merged_12])"
   ]
  },
  {
   "cell_type": "code",
   "execution_count": 6,
   "metadata": {},
   "outputs": [],
   "source": [
    "df_reorder_all = df_merged_all[(list(df_merged_all.columns[0:10])\n",
    "                                +list(df_merged_all.columns[-5:-1])\n",
    "                                +[df_merged_all.columns[-1]]\n",
    "                                +list(df_merged_all.columns[10: -5]))]"
   ]
  },
  {
   "cell_type": "code",
   "execution_count": 7,
   "metadata": {},
   "outputs": [],
   "source": [
    "df_reorder_all.to_csv(\"reporting_carrier_ontime_performance_final.csv\")"
   ]
  },
  {
   "cell_type": "markdown",
   "metadata": {},
   "source": [
    "----------\n",
    "# just check"
   ]
  },
  {
   "cell_type": "code",
   "execution_count": 8,
   "metadata": {},
   "outputs": [
    {
     "data": {
      "text/plain": [
       "array([1, 0], dtype=int64)"
      ]
     },
     "execution_count": 8,
     "metadata": {},
     "output_type": "execute_result"
    }
   ],
   "source": [
    "pd.unique(df_merged_all[\"Cancelled\"])"
   ]
  },
  {
   "cell_type": "code",
   "execution_count": 9,
   "metadata": {},
   "outputs": [
    {
     "data": {
      "text/plain": [
       "array([1, 0], dtype=int64)"
      ]
     },
     "execution_count": 9,
     "metadata": {},
     "output_type": "execute_result"
    }
   ],
   "source": [
    "pd.unique(df_merged_9[\"Cancelled\"])"
   ]
  },
  {
   "cell_type": "code",
   "execution_count": 10,
   "metadata": {},
   "outputs": [
    {
     "data": {
      "text/plain": [
       "68407"
      ]
     },
     "execution_count": 10,
     "metadata": {},
     "output_type": "execute_result"
    }
   ],
   "source": [
    "df_merged_9.shape[0]+df_merged_10.shape[0]+df_merged_11.shape[0]+df_merged_12.shape[0]"
   ]
  },
  {
   "cell_type": "code",
   "execution_count": 11,
   "metadata": {},
   "outputs": [
    {
     "data": {
      "text/plain": [
       "68407"
      ]
     },
     "execution_count": 11,
     "metadata": {},
     "output_type": "execute_result"
    }
   ],
   "source": [
    "(df_9[df_9['Reporting_Airline']=='NK'].shape[0]\n",
    " +df_10[df_10['Reporting_Airline']=='NK'].shape[0]\n",
    " +df_11[df_11['Reporting_Airline']=='NK'].shape[0]\n",
    " +df_12[df_12['Reporting_Airline']=='NK'].shape[0]\n",
    ")"
   ]
  },
  {
   "cell_type": "code",
   "execution_count": 12,
   "metadata": {},
   "outputs": [
    {
     "data": {
      "text/plain": [
       "array([0, 1], dtype=int64)"
      ]
     },
     "execution_count": 12,
     "metadata": {},
     "output_type": "execute_result"
    }
   ],
   "source": [
    "pd.unique(df_merged_all[\"Delayed\"])"
   ]
  },
  {
   "cell_type": "code",
   "execution_count": 13,
   "metadata": {},
   "outputs": [
    {
     "data": {
      "text/plain": [
       "array([0, 1], dtype=int64)"
      ]
     },
     "execution_count": 13,
     "metadata": {},
     "output_type": "execute_result"
    }
   ],
   "source": [
    "pd.unique(df_merged_all[\"Diverted\"])"
   ]
  },
  {
   "cell_type": "code",
   "execution_count": 14,
   "metadata": {},
   "outputs": [
    {
     "data": {
      "text/plain": [
       "array([1, 0], dtype=int64)"
      ]
     },
     "execution_count": 14,
     "metadata": {},
     "output_type": "execute_result"
    }
   ],
   "source": [
    "pd.unique(df_merged_all[\"Cancelled\"])"
   ]
  },
  {
   "cell_type": "code",
   "execution_count": null,
   "metadata": {},
   "outputs": [],
   "source": []
  },
  {
   "cell_type": "code",
   "execution_count": null,
   "metadata": {},
   "outputs": [],
   "source": []
  },
  {
   "cell_type": "code",
   "execution_count": null,
   "metadata": {},
   "outputs": [],
   "source": []
  },
  {
   "cell_type": "code",
   "execution_count": null,
   "metadata": {},
   "outputs": [],
   "source": []
  },
  {
   "cell_type": "code",
   "execution_count": null,
   "metadata": {},
   "outputs": [],
   "source": []
  },
  {
   "cell_type": "code",
   "execution_count": null,
   "metadata": {},
   "outputs": [],
   "source": []
  },
  {
   "cell_type": "code",
   "execution_count": null,
   "metadata": {},
   "outputs": [],
   "source": []
  },
  {
   "cell_type": "code",
   "execution_count": null,
   "metadata": {},
   "outputs": [],
   "source": []
  },
  {
   "cell_type": "code",
   "execution_count": null,
   "metadata": {},
   "outputs": [],
   "source": []
  }
 ],
 "metadata": {
  "kernelspec": {
   "display_name": "Python 3",
   "language": "python",
   "name": "python3"
  },
  "language_info": {
   "codemirror_mode": {
    "name": "ipython",
    "version": 3
   },
   "file_extension": ".py",
   "mimetype": "text/x-python",
   "name": "python",
   "nbconvert_exporter": "python",
   "pygments_lexer": "ipython3",
   "version": "3.7.3"
  }
 },
 "nbformat": 4,
 "nbformat_minor": 2
}
